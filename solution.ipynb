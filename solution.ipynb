{
 "cells": [
  {
   "cell_type": "markdown",
   "id": "407406f6",
   "metadata": {},
   "source": [
    "## Solución Desafio Latam"
   ]
  },
  {
   "cell_type": "code",
   "execution_count": 1,
   "id": "ed7ce627",
   "metadata": {},
   "outputs": [],
   "source": [
    "# Librerias\n",
    "import pandas as pd\n",
    "import numpy as np\n",
    "import datetime\n",
    "import matplotlib.pyplot as plt\n",
    "\n",
    "# Parámetros de gráficos\n",
    "plt.rcParams['figure.figsize'] = [12, 5]"
   ]
  },
  {
   "cell_type": "code",
   "execution_count": 2,
   "id": "2c00f8ec",
   "metadata": {},
   "outputs": [
    {
     "name": "stderr",
     "output_type": "stream",
     "text": [
      "C:\\Users\\jmetc\\anaconda3\\lib\\site-packages\\IPython\\core\\interactiveshell.py:3165: DtypeWarning: Columns (1,6) have mixed types.Specify dtype option on import or set low_memory=False.\n",
      "  has_raised = await self.run_ast_nodes(code_ast.body, cell_name,\n"
     ]
    }
   ],
   "source": [
    "# Paths\n",
    "dataset_path = './datasets/dataset_SCL.csv'\n",
    "\n",
    "# Lectura de archivo\n",
    "df = pd.read_csv(dataset_path, sep=',')"
   ]
  },
  {
   "cell_type": "markdown",
   "id": "8a8e6c1b",
   "metadata": {},
   "source": [
    "## Estudio de Datos"
   ]
  },
  {
   "cell_type": "code",
   "execution_count": 3,
   "id": "804af33d",
   "metadata": {},
   "outputs": [
    {
     "data": {
      "text/html": [
       "<div>\n",
       "<style scoped>\n",
       "    .dataframe tbody tr th:only-of-type {\n",
       "        vertical-align: middle;\n",
       "    }\n",
       "\n",
       "    .dataframe tbody tr th {\n",
       "        vertical-align: top;\n",
       "    }\n",
       "\n",
       "    .dataframe thead th {\n",
       "        text-align: right;\n",
       "    }\n",
       "</style>\n",
       "<table border=\"1\" class=\"dataframe\">\n",
       "  <thead>\n",
       "    <tr style=\"text-align: right;\">\n",
       "      <th></th>\n",
       "      <th>column</th>\n",
       "      <th>total_values</th>\n",
       "      <th>null_values</th>\n",
       "      <th>unique_values</th>\n",
       "    </tr>\n",
       "  </thead>\n",
       "  <tbody>\n",
       "    <tr>\n",
       "      <th>0</th>\n",
       "      <td>Fecha-I</td>\n",
       "      <td>68206</td>\n",
       "      <td>0</td>\n",
       "      <td>53252</td>\n",
       "    </tr>\n",
       "    <tr>\n",
       "      <th>0</th>\n",
       "      <td>Vlo-I</td>\n",
       "      <td>68206</td>\n",
       "      <td>0</td>\n",
       "      <td>750</td>\n",
       "    </tr>\n",
       "    <tr>\n",
       "      <th>0</th>\n",
       "      <td>Ori-I</td>\n",
       "      <td>68206</td>\n",
       "      <td>0</td>\n",
       "      <td>1</td>\n",
       "    </tr>\n",
       "    <tr>\n",
       "      <th>0</th>\n",
       "      <td>Des-I</td>\n",
       "      <td>68206</td>\n",
       "      <td>0</td>\n",
       "      <td>64</td>\n",
       "    </tr>\n",
       "    <tr>\n",
       "      <th>0</th>\n",
       "      <td>Emp-I</td>\n",
       "      <td>68206</td>\n",
       "      <td>0</td>\n",
       "      <td>30</td>\n",
       "    </tr>\n",
       "    <tr>\n",
       "      <th>0</th>\n",
       "      <td>Fecha-O</td>\n",
       "      <td>68206</td>\n",
       "      <td>0</td>\n",
       "      <td>62774</td>\n",
       "    </tr>\n",
       "    <tr>\n",
       "      <th>0</th>\n",
       "      <td>Vlo-O</td>\n",
       "      <td>68206</td>\n",
       "      <td>1</td>\n",
       "      <td>867</td>\n",
       "    </tr>\n",
       "    <tr>\n",
       "      <th>0</th>\n",
       "      <td>Ori-O</td>\n",
       "      <td>68206</td>\n",
       "      <td>0</td>\n",
       "      <td>1</td>\n",
       "    </tr>\n",
       "    <tr>\n",
       "      <th>0</th>\n",
       "      <td>Des-O</td>\n",
       "      <td>68206</td>\n",
       "      <td>0</td>\n",
       "      <td>63</td>\n",
       "    </tr>\n",
       "    <tr>\n",
       "      <th>0</th>\n",
       "      <td>Emp-O</td>\n",
       "      <td>68206</td>\n",
       "      <td>0</td>\n",
       "      <td>32</td>\n",
       "    </tr>\n",
       "    <tr>\n",
       "      <th>0</th>\n",
       "      <td>DIA</td>\n",
       "      <td>68206</td>\n",
       "      <td>0</td>\n",
       "      <td>31</td>\n",
       "    </tr>\n",
       "    <tr>\n",
       "      <th>0</th>\n",
       "      <td>MES</td>\n",
       "      <td>68206</td>\n",
       "      <td>0</td>\n",
       "      <td>12</td>\n",
       "    </tr>\n",
       "    <tr>\n",
       "      <th>0</th>\n",
       "      <td>AÑO</td>\n",
       "      <td>68206</td>\n",
       "      <td>0</td>\n",
       "      <td>2</td>\n",
       "    </tr>\n",
       "    <tr>\n",
       "      <th>0</th>\n",
       "      <td>DIANOM</td>\n",
       "      <td>68206</td>\n",
       "      <td>0</td>\n",
       "      <td>7</td>\n",
       "    </tr>\n",
       "    <tr>\n",
       "      <th>0</th>\n",
       "      <td>TIPOVUELO</td>\n",
       "      <td>68206</td>\n",
       "      <td>0</td>\n",
       "      <td>2</td>\n",
       "    </tr>\n",
       "    <tr>\n",
       "      <th>0</th>\n",
       "      <td>OPERA</td>\n",
       "      <td>68206</td>\n",
       "      <td>0</td>\n",
       "      <td>23</td>\n",
       "    </tr>\n",
       "    <tr>\n",
       "      <th>0</th>\n",
       "      <td>SIGLAORI</td>\n",
       "      <td>68206</td>\n",
       "      <td>0</td>\n",
       "      <td>1</td>\n",
       "    </tr>\n",
       "    <tr>\n",
       "      <th>0</th>\n",
       "      <td>SIGLADES</td>\n",
       "      <td>68206</td>\n",
       "      <td>0</td>\n",
       "      <td>62</td>\n",
       "    </tr>\n",
       "  </tbody>\n",
       "</table>\n",
       "</div>"
      ],
      "text/plain": [
       "      column  total_values  null_values  unique_values\n",
       "0    Fecha-I         68206            0          53252\n",
       "0      Vlo-I         68206            0            750\n",
       "0      Ori-I         68206            0              1\n",
       "0      Des-I         68206            0             64\n",
       "0      Emp-I         68206            0             30\n",
       "0    Fecha-O         68206            0          62774\n",
       "0      Vlo-O         68206            1            867\n",
       "0      Ori-O         68206            0              1\n",
       "0      Des-O         68206            0             63\n",
       "0      Emp-O         68206            0             32\n",
       "0        DIA         68206            0             31\n",
       "0        MES         68206            0             12\n",
       "0        AÑO         68206            0              2\n",
       "0     DIANOM         68206            0              7\n",
       "0  TIPOVUELO         68206            0              2\n",
       "0      OPERA         68206            0             23\n",
       "0   SIGLAORI         68206            0              1\n",
       "0   SIGLADES         68206            0             62"
      ]
     },
     "execution_count": 3,
     "metadata": {},
     "output_type": "execute_result"
    }
   ],
   "source": [
    "# Estudio de datos\n",
    "def informacion_basica_dataset(dataset, column):\n",
    "    total_values = len(dataset[column])\n",
    "    null_values = len(dataset[dataset[column].isnull()])\n",
    "    unique_values = len(dataset[column].unique())\n",
    "\n",
    "    result = pd.DataFrame({\n",
    "        'column': [column],\n",
    "        'total_values': [total_values],\n",
    "        'null_values': [null_values],\n",
    "        'unique_values': [unique_values]\n",
    "    }\n",
    "    )\n",
    "\n",
    "    return result\n",
    "\n",
    "resumen_df = pd.concat([informacion_basica_dataset(df,col) for col in df.columns])\n",
    "resumen_df"
   ]
  },
  {
   "cell_type": "code",
   "execution_count": 4,
   "id": "483fb52b",
   "metadata": {},
   "outputs": [
    {
     "data": {
      "text/plain": [
       "Fecha-I      object\n",
       "Vlo-I        object\n",
       "Ori-I        object\n",
       "Des-I        object\n",
       "Emp-I        object\n",
       "Fecha-O      object\n",
       "Vlo-O        object\n",
       "Ori-O        object\n",
       "Des-O        object\n",
       "Emp-O        object\n",
       "DIA           int64\n",
       "MES           int64\n",
       "AÑO           int64\n",
       "DIANOM       object\n",
       "TIPOVUELO    object\n",
       "OPERA        object\n",
       "SIGLAORI     object\n",
       "SIGLADES     object\n",
       "dtype: object"
      ]
     },
     "execution_count": 4,
     "metadata": {},
     "output_type": "execute_result"
    }
   ],
   "source": [
    "# Tipo de columna\n",
    "df.dtypes"
   ]
  },
  {
   "cell_type": "code",
   "execution_count": 5,
   "id": "0583f473",
   "metadata": {},
   "outputs": [
    {
     "data": {
      "text/html": [
       "<div>\n",
       "<style scoped>\n",
       "    .dataframe tbody tr th:only-of-type {\n",
       "        vertical-align: middle;\n",
       "    }\n",
       "\n",
       "    .dataframe tbody tr th {\n",
       "        vertical-align: top;\n",
       "    }\n",
       "\n",
       "    .dataframe thead th {\n",
       "        text-align: right;\n",
       "    }\n",
       "</style>\n",
       "<table border=\"1\" class=\"dataframe\">\n",
       "  <thead>\n",
       "    <tr style=\"text-align: right;\">\n",
       "      <th></th>\n",
       "      <th>Fecha-I</th>\n",
       "      <th>Vlo-I</th>\n",
       "      <th>Ori-I</th>\n",
       "      <th>Des-I</th>\n",
       "      <th>Emp-I</th>\n",
       "      <th>Fecha-O</th>\n",
       "      <th>Vlo-O</th>\n",
       "      <th>Ori-O</th>\n",
       "      <th>Des-O</th>\n",
       "      <th>Emp-O</th>\n",
       "      <th>DIA</th>\n",
       "      <th>MES</th>\n",
       "      <th>AÑO</th>\n",
       "      <th>DIANOM</th>\n",
       "      <th>TIPOVUELO</th>\n",
       "      <th>OPERA</th>\n",
       "      <th>SIGLAORI</th>\n",
       "      <th>SIGLADES</th>\n",
       "    </tr>\n",
       "  </thead>\n",
       "  <tbody>\n",
       "    <tr>\n",
       "      <th>0</th>\n",
       "      <td>2017-01-01 23:30:00</td>\n",
       "      <td>226</td>\n",
       "      <td>SCEL</td>\n",
       "      <td>KMIA</td>\n",
       "      <td>AAL</td>\n",
       "      <td>2017-01-01 23:33:00</td>\n",
       "      <td>226</td>\n",
       "      <td>SCEL</td>\n",
       "      <td>KMIA</td>\n",
       "      <td>AAL</td>\n",
       "      <td>1</td>\n",
       "      <td>1</td>\n",
       "      <td>2017</td>\n",
       "      <td>Domingo</td>\n",
       "      <td>I</td>\n",
       "      <td>American Airlines</td>\n",
       "      <td>Santiago</td>\n",
       "      <td>Miami</td>\n",
       "    </tr>\n",
       "    <tr>\n",
       "      <th>1</th>\n",
       "      <td>2017-01-02 23:30:00</td>\n",
       "      <td>226</td>\n",
       "      <td>SCEL</td>\n",
       "      <td>KMIA</td>\n",
       "      <td>AAL</td>\n",
       "      <td>2017-01-02 23:39:00</td>\n",
       "      <td>226</td>\n",
       "      <td>SCEL</td>\n",
       "      <td>KMIA</td>\n",
       "      <td>AAL</td>\n",
       "      <td>2</td>\n",
       "      <td>1</td>\n",
       "      <td>2017</td>\n",
       "      <td>Lunes</td>\n",
       "      <td>I</td>\n",
       "      <td>American Airlines</td>\n",
       "      <td>Santiago</td>\n",
       "      <td>Miami</td>\n",
       "    </tr>\n",
       "    <tr>\n",
       "      <th>2</th>\n",
       "      <td>2017-01-03 23:30:00</td>\n",
       "      <td>226</td>\n",
       "      <td>SCEL</td>\n",
       "      <td>KMIA</td>\n",
       "      <td>AAL</td>\n",
       "      <td>2017-01-03 23:39:00</td>\n",
       "      <td>226</td>\n",
       "      <td>SCEL</td>\n",
       "      <td>KMIA</td>\n",
       "      <td>AAL</td>\n",
       "      <td>3</td>\n",
       "      <td>1</td>\n",
       "      <td>2017</td>\n",
       "      <td>Martes</td>\n",
       "      <td>I</td>\n",
       "      <td>American Airlines</td>\n",
       "      <td>Santiago</td>\n",
       "      <td>Miami</td>\n",
       "    </tr>\n",
       "    <tr>\n",
       "      <th>3</th>\n",
       "      <td>2017-01-04 23:30:00</td>\n",
       "      <td>226</td>\n",
       "      <td>SCEL</td>\n",
       "      <td>KMIA</td>\n",
       "      <td>AAL</td>\n",
       "      <td>2017-01-04 23:33:00</td>\n",
       "      <td>226</td>\n",
       "      <td>SCEL</td>\n",
       "      <td>KMIA</td>\n",
       "      <td>AAL</td>\n",
       "      <td>4</td>\n",
       "      <td>1</td>\n",
       "      <td>2017</td>\n",
       "      <td>Miercoles</td>\n",
       "      <td>I</td>\n",
       "      <td>American Airlines</td>\n",
       "      <td>Santiago</td>\n",
       "      <td>Miami</td>\n",
       "    </tr>\n",
       "    <tr>\n",
       "      <th>4</th>\n",
       "      <td>2017-01-05 23:30:00</td>\n",
       "      <td>226</td>\n",
       "      <td>SCEL</td>\n",
       "      <td>KMIA</td>\n",
       "      <td>AAL</td>\n",
       "      <td>2017-01-05 23:28:00</td>\n",
       "      <td>226</td>\n",
       "      <td>SCEL</td>\n",
       "      <td>KMIA</td>\n",
       "      <td>AAL</td>\n",
       "      <td>5</td>\n",
       "      <td>1</td>\n",
       "      <td>2017</td>\n",
       "      <td>Jueves</td>\n",
       "      <td>I</td>\n",
       "      <td>American Airlines</td>\n",
       "      <td>Santiago</td>\n",
       "      <td>Miami</td>\n",
       "    </tr>\n",
       "  </tbody>\n",
       "</table>\n",
       "</div>"
      ],
      "text/plain": [
       "              Fecha-I Vlo-I Ori-I Des-I Emp-I             Fecha-O Vlo-O Ori-O  \\\n",
       "0 2017-01-01 23:30:00   226  SCEL  KMIA   AAL 2017-01-01 23:33:00   226  SCEL   \n",
       "1 2017-01-02 23:30:00   226  SCEL  KMIA   AAL 2017-01-02 23:39:00   226  SCEL   \n",
       "2 2017-01-03 23:30:00   226  SCEL  KMIA   AAL 2017-01-03 23:39:00   226  SCEL   \n",
       "3 2017-01-04 23:30:00   226  SCEL  KMIA   AAL 2017-01-04 23:33:00   226  SCEL   \n",
       "4 2017-01-05 23:30:00   226  SCEL  KMIA   AAL 2017-01-05 23:28:00   226  SCEL   \n",
       "\n",
       "  Des-O Emp-O  DIA  MES   AÑO     DIANOM TIPOVUELO              OPERA  \\\n",
       "0  KMIA   AAL    1    1  2017    Domingo         I  American Airlines   \n",
       "1  KMIA   AAL    2    1  2017      Lunes         I  American Airlines   \n",
       "2  KMIA   AAL    3    1  2017     Martes         I  American Airlines   \n",
       "3  KMIA   AAL    4    1  2017  Miercoles         I  American Airlines   \n",
       "4  KMIA   AAL    5    1  2017     Jueves         I  American Airlines   \n",
       "\n",
       "   SIGLAORI SIGLADES  \n",
       "0  Santiago    Miami  \n",
       "1  Santiago    Miami  \n",
       "2  Santiago    Miami  \n",
       "3  Santiago    Miami  \n",
       "4  Santiago    Miami  "
      ]
     },
     "execution_count": 5,
     "metadata": {},
     "output_type": "execute_result"
    }
   ],
   "source": [
    "# Extracto del dataset\n",
    "df['Fecha-I'] = pd.to_datetime(df['Fecha-I'])\n",
    "df['Fecha-O'] = pd.to_datetime(df['Fecha-O'])\n",
    "df.head(5)"
   ]
  },
  {
   "cell_type": "code",
   "execution_count": 6,
   "id": "721f4cf9",
   "metadata": {},
   "outputs": [
    {
     "data": {
      "text/plain": [
       "Text(0.5, 1.0, 'Distribución diaria de vuelos')"
      ]
     },
     "execution_count": 6,
     "metadata": {},
     "output_type": "execute_result"
    },
    {
     "data": {
      "image/png": "[encoded data removed]",
      "text/plain": [
       "<Figure size 864x360 with 1 Axes>"
      ]
     },
     "metadata": {
      "needs_background": "light"
     },
     "output_type": "display_data"
    }
   ],
   "source": [
    "# Ver Distribuciones\n",
    "# Intuicion: Al ser algo que funciona a diario, primero veremos distribucion diaria, luego mensual.\n",
    "dias_list = ['Lunes', 'Martes', 'Miercoles', 'Jueves', 'Viernes', 'Sabado', 'Domingo']\n",
    "dias_values = list(df['DIANOM'])\n",
    "dias_count_list = [dias_values.count('Lunes'), \n",
    "                    dias_values.count('Martes'), \n",
    "                    dias_values.count('Miercoles'), \n",
    "                    dias_values.count('Jueves'),\n",
    "                    dias_values.count('Viernes'),\n",
    "                    dias_values.count('Sabado'),\n",
    "                    dias_values.count('Domingo')]\n",
    "plt.bar(dias_list, dias_count_list)\n",
    "plt.title('Distribución diaria de vuelos')"
   ]
  },
  {
   "cell_type": "code",
   "execution_count": 7,
   "id": "cef0a369",
   "metadata": {},
   "outputs": [
    {
     "data": {
      "text/plain": [
       "Text(0.5, 1.0, 'Distribución mensual de vuelos')"
      ]
     },
     "execution_count": 7,
     "metadata": {},
     "output_type": "execute_result"
    },
    {
     "data": {
      "image/png": "[encoded data removed]",
      "text/plain": [
       "<Figure size 864x360 with 1 Axes>"
      ]
     },
     "metadata": {
      "needs_background": "light"
     },
     "output_type": "display_data"
    }
   ],
   "source": [
    "# Hacemos lo mismo de manera mensual\n",
    "meses_list = ['Enero', 'Febrero', 'Marzo', 'Abril', 'Mayo', 'Junio', 'Julio', \n",
    "              'Agosto', 'Septiembre', 'Octubre', 'Noviembre', 'Diciembre']\n",
    "meses_values = list(df['MES'])\n",
    "meses_count_list = [meses_values.count(x) for x in np.unique(np.array(meses_values))]\n",
    "plt.bar(meses_list, meses_count_list)\n",
    "plt.title('Distribución mensual de vuelos')"
   ]
  },
  {
   "cell_type": "markdown",
   "id": "68dee202",
   "metadata": {},
   "source": [
    "## Pregunta 1\n",
    "\n",
    "1. ¿Cómo se distribuyen los datos? ¿Qué te llama la atención o cuál es tu conclusión sobre esto?\n",
    "\n",
    "R: Los datos distribuyen más o menos \"similares\", con variaciones de hasta un 20% aproximadamente si comparamos los valores extremos. No tiene una distribución de las conocidas, como la normal, la exponencial, o la t de student.\n",
    "\n",
    "En el caso de los vuelos diarios, se puede ver que el día sabado es el que presenta la menor cantidad de vuelos, mientras que el viernes es el que tiene la mayor cantidad, la cual se asemeja bastante a la del lunes y a la del jueves. Esto se podia explicar en parte por los trabajos de turno del tipo 4x3, donde la gente parte el lunes, y vuelve el jueves en la noche, o viernes de madrugada, dependiendo de a que hora partieron el lunes.\n",
    "\n",
    "Por otra parte, junio es el mes con la menos cantidad de viajes, mientras que diciembre es el mes con la mayor cantidad de vuelos, seguido por enero y diciembre. Esto se puede explicar por el inicio del verano, y las vacaciones de los estudiantes. Así mismo, en Julio se nota una importante subida, posiblemente debido a las vacaciones de invierno."
   ]
  },
  {
   "cell_type": "markdown",
   "id": "afc3e5ab",
   "metadata": {},
   "source": [
    "## Generación Nuevas Columnas"
   ]
  },
  {
   "cell_type": "code",
   "execution_count": 8,
   "id": "a6f8b5e2",
   "metadata": {},
   "outputs": [],
   "source": [
    "def agregar_temporada_alta(fecha):\n",
    "    \n",
    "    \"\"\"\n",
    "    Se define como:\n",
    "        1,  si fecha esta entre 15-Dic y 3-Mar, o 15-Jul y 31-Jul, o 11-Sep y 30-Sep\n",
    "        0, si no\n",
    "    \"\"\"\n",
    "    \n",
    "    anno = fecha.year\n",
    "    \n",
    "    # fecha está entre 15-Dic y 3-Mar\n",
    "    restriccion_011 = (fecha>=datetime.date(anno, 12, 15) and fecha<=datetime.date(anno, 12, 31))\n",
    "    restriccion_012 = (fecha>=datetime.date(anno, 1, 1) and fecha<=datetime.date(anno, 3, 3))\n",
    "    \n",
    "    # fecha está entre 15-Jul y 31-Jul\n",
    "    restriccion_02 = (fecha>=datetime.date(anno, 7, 15) and fecha<=datetime.date(anno, 7, 31))\n",
    "\n",
    "    \n",
    "    # fecha está entre 11-Sep y 30-Sep\n",
    "    restriccion_03 = (fecha>=datetime.date(anno, 9, 11) and fecha<=datetime.date(anno, 9, 30))\n",
    "\n",
    "    if  restriccion_011 or restriccion_012 or restriccion_02 or restriccion_03:\n",
    "        return 1\n",
    "    \n",
    "    else: \n",
    "        return 0"
   ]
  },
  {
   "cell_type": "code",
   "execution_count": 9,
   "id": "23c3bfb6",
   "metadata": {},
   "outputs": [],
   "source": [
    "def agregar_dif_min(dias):\n",
    "    \n",
    "    \"\"\"\n",
    "    dif_min : diferencia en minutos entre Fecha-O y Fecha-I\n",
    "    \"\"\"\n",
    "    \n",
    "    return divmod(dias.total_seconds(), 60)[0]"
   ]
  },
  {
   "cell_type": "code",
   "execution_count": 10,
   "id": "eb764169",
   "metadata": {},
   "outputs": [],
   "source": [
    "def agregar_atraso_15(minutos):\n",
    "    \n",
    "    \"\"\"\n",
    "    1 si minutos > 15, 0 si no\n",
    "    \"\"\"\n",
    "    \n",
    "    return 1 if minutos > 15 else 0"
   ]
  },
  {
   "cell_type": "code",
   "execution_count": 11,
   "id": "47932f8d",
   "metadata": {},
   "outputs": [],
   "source": [
    "def agregar_periodo_dia(hora):\n",
    "    \n",
    "    \"\"\"\n",
    "    Mañana (entre 5:00 y 11:59)\n",
    "    Tarde (entre 12:00 y 18:59) \n",
    "    Noche (entre 19:00 y 4:59)\n",
    "    Todo en base a Fecha-I\n",
    "\n",
    "    \"\"\"\n",
    "    \n",
    "    # manana (entre 5:00 y 11:59)\n",
    "    manana = hora >= datetime.time(5,0) and hora <= datetime.time(11,59)\n",
    "    \n",
    "    # tarde (entre 12:00 y 18:59)\n",
    "    tarde =  hora >= datetime.time(12,0) and hora <= datetime.time(18,59)\n",
    "        \n",
    "    # noche (entre 19:00 y 4:59) \n",
    "    noche_01 =   hora >= datetime.time(19,0) and hora <= datetime.time(23,59)\n",
    "    noche_02 =   hora >= datetime.time(0,0) and hora <= datetime.time(4,59)\n",
    "    \n",
    "    if manana:\n",
    "        return \"mañana\"\n",
    "    \n",
    "    elif tarde:\n",
    "        return \"tarde\"\n",
    "    \n",
    "    elif noche_01 or noche_02:\n",
    "        return \"noche\"\n",
    "    \n",
    "    else:\n",
    "        return \"-\""
   ]
  },
  {
   "cell_type": "code",
   "execution_count": 12,
   "id": "8e0a5cf5",
   "metadata": {},
   "outputs": [],
   "source": [
    "# Generamos nuestras nuevas columnas\n",
    "df['temporada_alta'] = df['Fecha-I'].apply(lambda x: agregar_temporada_alta(x))\n",
    "df['dif_min'] = (df['Fecha-O']-df['Fecha-I']).apply(lambda x:agregar_dif_min(x)).astype(int)\n",
    "df['atraso_15'] = df['dif_min'] .apply(lambda x: agregar_atraso_15(x))\n",
    "df['periodo_dia'] = df['Fecha-I'].dt.time.apply(lambda x:agregar_periodo_dia(x))"
   ]
  },
  {
   "cell_type": "markdown",
   "id": "3829b3e6",
   "metadata": {},
   "source": [
    "## Pregunta 2"
   ]
  },
  {
   "cell_type": "code",
   "execution_count": 13,
   "id": "02c015ce",
   "metadata": {},
   "outputs": [],
   "source": [
    "# Generamos nuevo archivos csv y exportamos\n",
    "synthetic_features = df[['temporada_alta', 'dif_min', 'atraso_15', 'periodo_dia']]\n",
    "synthetic_features.to_csv('./datasets/synthetic_features.csv', sep=',', index=False)"
   ]
  },
  {
   "cell_type": "markdown",
   "id": "b8684eb3",
   "metadata": {},
   "source": [
    "## Pregunta 3\n",
    "¿Cómo se compone la tasa de atraso por destino, aerolínea, mes del año, día de la semana, temporada, tipo de vuelo?\n",
    "¿Qué variables esperarías que más influyeran en predecir atrasos?"
   ]
  },
  {
   "cell_type": "code",
   "execution_count": 14,
   "id": "587c4d70",
   "metadata": {},
   "outputs": [
    {
     "name": "stdout",
     "output_type": "stream",
     "text": [
      "Des-O\n",
      "   Des-O  min       mean  max\n",
      "0   CYYZ  -14  15.766784  147\n",
      "1   EGLL  -11   7.560976  124\n",
      "2   EGYP   50  50.000000   50\n",
      "3   KATL  -14   0.114525  118\n",
      "4   KDFW  -14  -1.081232  110\n",
      "..   ...  ...        ...  ...\n",
      "58  SPSO    2   2.000000    2\n",
      "59  SULS   -6   8.500000   39\n",
      "60  SUMU  -10  10.400563  159\n",
      "61  YMML   -2  19.256410   61\n",
      "62  YSSY   -7  26.948454  159\n",
      "\n",
      "[63 rows x 4 columns]\n",
      "\n",
      "OPERA\n",
      "                       OPERA  min       mean  max\n",
      "0      Aerolineas Argentinas  -14  10.004618  154\n",
      "1                 Aeromexico  -14  -2.495726  138\n",
      "2                 Air Canada  -14  22.909735  152\n",
      "3                 Air France  -14   1.399441   70\n",
      "4                   Alitalia  -14   5.293436  151\n",
      "5          American Airlines  -14   0.277411  160\n",
      "6                    Austral  -14   6.608108   47\n",
      "7                    Avianca  -14  11.131944  159\n",
      "8            British Airways  -11   7.560976  124\n",
      "9                   Copa Air  -14   0.214054  151\n",
      "10                 Delta Air  -14   0.114525  118\n",
      "11                 Gol Trans  -14  11.911911  151\n",
      "12               Grupo LATAM  -14   9.470630  161\n",
      "13                    Iberia  -13   4.276243  127\n",
      "14              JetSmart SPA  -13   7.442009  155\n",
      "15                    K.L.M.  -14   1.310757  161\n",
      "16                     Lacsa  -14   4.880435  130\n",
      "17      Latin American Wings  -14  24.566308  161\n",
      "18    Oceanair Linhas Aereas  -14   6.340502  120\n",
      "19  Plus Ultra Lineas Aereas   -9  31.714286  157\n",
      "20            Qantas Airways   -7  26.835897  159\n",
      "21               Sky Airline  -14   8.117149  161\n",
      "22           United Airlines  -14  -1.856716  152\n",
      "\n",
      "MES\n",
      "    MES  min       mean  max\n",
      "0     1  -14   7.769646  161\n",
      "1     2  -14   7.537853  160\n",
      "2     3  -14   5.757205  161\n",
      "3     4  -14   5.773506  161\n",
      "4     5  -14   7.521756  161\n",
      "5     6  -14   8.542461  161\n",
      "6     7  -14  15.372163  161\n",
      "7     8  -14   8.616818  161\n",
      "8     9  -14   8.497326  159\n",
      "9    10  -14  11.295922  160\n",
      "10   11  -14   9.342763  161\n",
      "11   12  -14  11.849591  159\n",
      "\n",
      "DIANOM\n",
      "      DIANOM  min       mean  max\n",
      "0    Domingo  -14   7.930788  161\n",
      "1     Jueves  -14   9.521120  161\n",
      "2      Lunes  -14   9.980653  161\n",
      "3     Martes  -14   8.324777  161\n",
      "4  Miercoles  -14   8.540835  160\n",
      "5     Sabado  -14   8.315014  160\n",
      "6    Viernes  -14  10.891469  161\n",
      "\n",
      "temporada_alta\n",
      "   temporada_alta  min      mean  max\n",
      "0               0  -14  8.825191  161\n",
      "1               1  -14  9.681179  161\n",
      "\n",
      "TIPOVUELO\n",
      "  TIPOVUELO  min       mean  max\n",
      "0         I  -14  10.638892  161\n",
      "1         N  -14   7.819510  161\n",
      "\n"
     ]
    }
   ],
   "source": [
    "# Agrupamos las componentes\n",
    "columns = ['Des-O','OPERA','MES','DIANOM','temporada_alta','TIPOVUELO']\n",
    "\n",
    "\n",
    "for col in columns:\n",
    "    print(col)\n",
    "    print(df.groupby(col)['dif_min'].agg({min,max,np.mean}).reset_index())#.sort_values('dif_min'))\n",
    "    print()"
   ]
  },
  {
   "cell_type": "code",
   "execution_count": 15,
   "id": "5673a3f7",
   "metadata": {},
   "outputs": [
    {
     "data": {
      "text/plain": [
       "Des-O\n",
       "SLCB    113.000000\n",
       "SEQM     52.000000\n",
       "EGYP     50.000000\n",
       "YSSY     26.948454\n",
       "SAWH     24.500000\n",
       "YMML     19.256410\n",
       "SAAR     19.022059\n",
       "SAZS     18.500000\n",
       "NZAA     18.246537\n",
       "CYYZ     15.766784\n",
       "Name: dif_min, dtype: float64"
      ]
     },
     "execution_count": 15,
     "metadata": {},
     "output_type": "execute_result"
    }
   ],
   "source": [
    "# Revisaremos los 10 promedios más altos de viajes\n",
    "df.groupby('Des-O')['dif_min'].agg('mean').sort_values(ascending=False)[:10]"
   ]
  },
  {
   "cell_type": "markdown",
   "id": "2db3349b",
   "metadata": {},
   "source": [
    "## Respuesta\n",
    "\n",
    "Primero, decir que se comparan las columnas con la columna dif_min, ya que esta nos dice de la diferencia en minutos entre la fecha real de llegada vs la programada, es decir, si se llega después de lo programado, el valor sera positivo, caso contrario sera negativo.\n",
    "\n",
    "Se podría intuir que lo que más influye en los atrasos de los vuelos es si la temporada es alta o no, ya que habrian más aviones que mover, maletas que transportar, pasajeros que mover, es decir, toda la operación sería más lenta.\n",
    "\n",
    "También se podria esperar que el destino influye bastante en los atrasos, ya que si hay cualquier turbulencia o problema durante el viaje, es un atraso que quizas no se pueda recuperar más adelante en el viaje.\n",
    "\n",
    "En este set de datos, el destino que tuvo en promedio el mayor atraso fue SLCB, asociado a el aeropuerto de Cochambamba, seguido por SEQM (Quito), y EGYP (Puerto Stanley).\n",
    "\n",
    "Es un poco contra intuitivo que ciudades que queden tan cerca presenten los mayores atrasos, habría que estudiar mejor el porqué de este fenomeno."
   ]
  },
  {
   "cell_type": "markdown",
   "id": "7ea644a1",
   "metadata": {},
   "source": [
    "## Pregunta 4 y 5\n",
    "Entrena uno o varios modelos (usando el/los algoritmo(s) que prefieras) para estimar la probabilidad de atraso de un vuelo.\n",
    "Siéntete libre de generar variables adicionales y/o complementar con variables externas.\n",
    "\n",
    "Evalúa tu modelo. ¿Qué performance tiene? ¿Qué métricas usaste para evaluar esa performance y por qué? ¿Por qué\n",
    "elegiste ese algoritmo en particular? ¿Qué variables son las que más influyen en la predicción? ¿Cómo podrías mejorar la\n",
    "performance?"
   ]
  },
  {
   "cell_type": "markdown",
   "id": "224626ec",
   "metadata": {},
   "source": [
    "Primero, notemos que el problema se trata de una predicción \"binaria\", ya que nos interesa ver si un vuelo se atrasa, o no, independiente del atraso."
   ]
  },
  {
   "cell_type": "code",
   "execution_count": 16,
   "id": "4eeb56fc",
   "metadata": {},
   "outputs": [],
   "source": [
    "# Libreria a importar\n",
    "\n",
    "from sklearn.model_selection import train_test_split\n",
    "from sklearn import metrics\n",
    "import lightgbm as lgb"
   ]
  },
  {
   "cell_type": "code",
   "execution_count": 17,
   "id": "e58ecc6e",
   "metadata": {},
   "outputs": [],
   "source": [
    "# Definimos nuestros features y el target de la predicción\n",
    "features=  ['Emp-O', 'DIA', 'MES', 'AÑO', 'DIANOM', 'TIPOVUELO',\n",
    "       'OPERA', 'SIGLADES', 'temporada_alta', 'periodo_dia']\n",
    "\n",
    "target = 'atraso_15'"
   ]
  },
  {
   "cell_type": "code",
   "execution_count": 18,
   "id": "06c592c1",
   "metadata": {},
   "outputs": [
    {
     "name": "stderr",
     "output_type": "stream",
     "text": [
      "<ipython-input-18-fb9695bb7616>:5: SettingWithCopyWarning: \n",
      "A value is trying to be set on a copy of a slice from a DataFrame.\n",
      "Try using .loc[row_indexer,col_indexer] = value instead\n",
      "\n",
      "See the caveats in the documentation: https://pandas.pydata.org/pandas-docs/stable/user_guide/indexing.html#returning-a-view-versus-a-copy\n",
      "  X[col] = X[col].astype('category')\n"
     ]
    }
   ],
   "source": [
    "# Definimos nuestro set de entrenamiento\n",
    "X = df[features]\n",
    "\n",
    "for col in ['Emp-O', 'TIPOVUELO', 'OPERA', 'SIGLADES','DIANOM','periodo_dia']:\n",
    "    X[col] = X[col].astype('category')\n",
    "\n",
    "Y = df[target]\n",
    "\n",
    "\n",
    "# Separamos el dataset\n",
    "X_train, X_test, Y_train, Y_test = train_test_split(X, Y, test_size=0.2, random_state = 2)"
   ]
  },
  {
   "cell_type": "code",
   "execution_count": 19,
   "id": "8e134c2e",
   "metadata": {},
   "outputs": [
    {
     "data": {
      "text/plain": [
       "LGBMClassifier()"
      ]
     },
     "execution_count": 19,
     "metadata": {},
     "output_type": "execute_result"
    }
   ],
   "source": [
    "# Entrenamos el modelo\n",
    "clf = lgb.LGBMClassifier()\n",
    "clf.fit(X_train, Y_train)"
   ]
  },
  {
   "cell_type": "code",
   "execution_count": 20,
   "id": "64e30a0f",
   "metadata": {},
   "outputs": [
    {
     "name": "stdout",
     "output_type": "stream",
     "text": [
      "\n",
      "Matriz de confusion:\n",
      " \n",
      "[[11002   157]\n",
      " [ 2192   291]]\n"
     ]
    }
   ],
   "source": [
    "# Para evaluar el modelo, usamos la matriz de confusión\n",
    "y_true =  list(Y_test)\n",
    "y_pred = list(clf.predict(X_test))\n",
    "\n",
    "print('\\nMatriz de confusion:\\n ')\n",
    "print(metrics.confusion_matrix(y_true,y_pred))"
   ]
  },
  {
   "cell_type": "markdown",
   "id": "c4a749aa",
   "metadata": {},
   "source": [
    "Con el modelo usado sobre el dataset, se obtiene:\n",
    "<br>True Positive: 11002\n",
    "<br>False Positive: 157\n",
    "<br>False Negative: 2192\n",
    "<br>True Negative: 291"
   ]
  },
  {
   "cell_type": "code",
   "execution_count": 21,
   "id": "44bde903",
   "metadata": {},
   "outputs": [
    {
     "name": "stdout",
     "output_type": "stream",
     "text": [
      "Accuracy:  0.8278111713824953\n",
      "Precision:  0.6495535714285714\n",
      "Recall:  0.11719693918646798\n"
     ]
    }
   ],
   "source": [
    "# Otras métricas\n",
    "print('Accuracy: ', metrics.accuracy_score(y_true,y_pred))\n",
    "print('Precision: ', metrics.precision_score(y_true,y_pred))\n",
    "print('Recall: ', metrics.recall_score(y_true,y_pred))"
   ]
  },
  {
   "cell_type": "markdown",
   "id": "53643374",
   "metadata": {},
   "source": [
    "Performance: Accuracy del 83%\n",
    "<br>\n",
    "<br>En este caso, consideramos que el Accuracy sería una buena metrica a considerar, ya que esta nos indica que tan cerca están de un valor, que finalmente es lo que nos importa: Que tan problable es que un vuelo se atrase o no. Ahora, esto se vería altamente beneficiado por una Precision aun mayor, pero usualmente esto afecta el desempeño del Accuracy, por lo que habria que probar otro modelo, o inyectar otras variables como:\n",
    "<br>- Clima\n",
    "<br>- Antiguedad de Piloto\n",
    "<br>- Cantidad de Equipaje\n",
    "<br>- Entre otras\n",
    "<br>\n",
    "<br>La razón de porque se uso este modelo es que las variables por lo general estan bien definidas, y no son una cantidad muy grande (12 meses, 7 dias, etc), por lo que el modelo tiene un mejor rendimiento que con problemas con variables mas continuas, además de ser bastante rápido en su ejecución, entregando una buena idea de las métricas a las que se deben llegar con otros modelos.\n",
    "<br>"
   ]
  },
  {
   "cell_type": "code",
   "execution_count": 22,
   "id": "fd2036f2",
   "metadata": {},
   "outputs": [
    {
     "data": {
      "text/plain": [
       "[0.09929625575230891,\n",
       " 0.36880604278279916,\n",
       " 0.13896405408454193,\n",
       " 0.07187013177708602,\n",
       " 0.0897751966600599,\n",
       " 0.30088604716578393,\n",
       " 0.0714626032043447,\n",
       " 0.2118175886186684,\n",
       " 0.18816092020485828,\n",
       " 0.09328129758851945]"
      ]
     },
     "execution_count": 22,
     "metadata": {},
     "output_type": "execute_result"
    }
   ],
   "source": [
    "# Para ver los primeros 10 resultados de la predicción, se puede usar el siguiente comando:\n",
    "y_pred_proba = list(clf.predict_proba(X_test)[:,1])\n",
    "y_pred_proba[:10]"
   ]
  },
  {
   "cell_type": "code",
   "execution_count": null,
   "id": "5362837c",
   "metadata": {},
   "outputs": [],
   "source": []
  }
 ],
 "metadata": {
  "kernelspec": {
   "display_name": "Python 3",
   "language": "python",
   "name": "python3"
  },
  "language_info": {
   "codemirror_mode": {
    "name": "ipython",
    "version": 3
   },
   "file_extension": ".py",
   "mimetype": "text/x-python",
   "name": "python",
   "nbconvert_exporter": "python",
   "pygments_lexer": "ipython3",
   "version": "3.8.8"
  }
 },
 "nbformat": 4,
 "nbformat_minor": 5
}
